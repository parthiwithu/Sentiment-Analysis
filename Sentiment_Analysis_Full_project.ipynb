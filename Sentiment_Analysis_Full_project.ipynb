{
 "cells": [
  {
   "cell_type": "markdown",
   "id": "b97ece8b-e1b4-4b22-9c86-af3304f68431",
   "metadata": {},
   "source": [
    "# Importing Required Libraries "
   ]
  },
  {
   "cell_type": "code",
   "execution_count": 1,
   "id": "e6611fe8-4480-4158-af82-7f1e1277d5e5",
   "metadata": {},
   "outputs": [
    {
     "name": "stderr",
     "output_type": "stream",
     "text": [
      "[nltk_data] Downloading package punkt_tab to\n",
      "[nltk_data]     C:\\Users\\admin\\AppData\\Roaming\\nltk_data...\n",
      "[nltk_data]   Package punkt_tab is already up-to-date!\n",
      "[nltk_data] Downloading package stopwords to\n",
      "[nltk_data]     C:\\Users\\admin\\AppData\\Roaming\\nltk_data...\n",
      "[nltk_data]   Package stopwords is already up-to-date!\n"
     ]
    }
   ],
   "source": [
    "import pandas as pd \n",
    "import numpy as np \n",
    "import matplotlib.pyplot as plt \n",
    "import seaborn as sns \n",
    "\n",
    "import nltk \n",
    "from nltk.tokenize import word_tokenize\n",
    "from nltk.stem import WordNetLemmatizer\n",
    "from nltk.corpus import stopwords \n",
    "nltk.download('punkt_tab')\n",
    "nltk.download('stopwords')\n",
    "\n",
    "from bs4 import BeautifulSoup\n",
    "import string \n",
    "import re \n",
    "\n",
    "from sklearn.feature_extraction.text import TfidfVectorizer\n",
    "from sklearn.model_selection import train_test_split\n",
    "from sklearn.preprocessing import LabelEncoder\n",
    "from sklearn.utils import resample\n",
    "\n",
    "from sklearn.linear_model import LogisticRegression\n",
    "from sklearn.naive_bayes import MultinomialNB\n",
    "from sklearn.svm import LinearSVC\n",
    "from sklearn.ensemble import RandomForestClassifier\n",
    "from sklearn.metrics import classification_report, confusion_matrix\n",
    "\n",
    "from tensorflow.keras.models import Sequential\n",
    "from tensorflow.keras.layers import Embedding, LSTM, Dense, Dropout, Bidirectional\n",
    "from tensorflow.keras.preprocessing.text import Tokenizer\n",
    "from tensorflow.keras.preprocessing.sequence import pad_sequences\n",
    "\n"
   ]
  },
  {
   "cell_type": "markdown",
   "id": "74e004a9-a101-4fdd-9f32-7413755c6674",
   "metadata": {},
   "source": [
    "# Loading the DataSet"
   ]
  },
  {
   "cell_type": "code",
   "execution_count": 2,
   "id": "c90fdc97-15f1-45fe-ae2f-8980df0a94a4",
   "metadata": {},
   "outputs": [],
   "source": [
    "review = pd.read_csv(r\"C:\\Users\\admin\\Desktop\\Python\\Reviews.csv\\Reviews.csv\")\n"
   ]
  },
  {
   "cell_type": "code",
   "execution_count": 3,
   "id": "1f74bf24-76c9-4bad-a56c-f5cb8f9bb07c",
   "metadata": {},
   "outputs": [
    {
     "data": {
      "text/html": [
       "<div>\n",
       "<style scoped>\n",
       "    .dataframe tbody tr th:only-of-type {\n",
       "        vertical-align: middle;\n",
       "    }\n",
       "\n",
       "    .dataframe tbody tr th {\n",
       "        vertical-align: top;\n",
       "    }\n",
       "\n",
       "    .dataframe thead th {\n",
       "        text-align: right;\n",
       "    }\n",
       "</style>\n",
       "<table border=\"1\" class=\"dataframe\">\n",
       "  <thead>\n",
       "    <tr style=\"text-align: right;\">\n",
       "      <th></th>\n",
       "      <th>Id</th>\n",
       "      <th>ProductId</th>\n",
       "      <th>UserId</th>\n",
       "      <th>ProfileName</th>\n",
       "      <th>HelpfulnessNumerator</th>\n",
       "      <th>HelpfulnessDenominator</th>\n",
       "      <th>Score</th>\n",
       "      <th>Time</th>\n",
       "      <th>Summary</th>\n",
       "      <th>Text</th>\n",
       "    </tr>\n",
       "  </thead>\n",
       "  <tbody>\n",
       "    <tr>\n",
       "      <th>0</th>\n",
       "      <td>1</td>\n",
       "      <td>B001E4KFG0</td>\n",
       "      <td>A3SGXH7AUHU8GW</td>\n",
       "      <td>delmartian</td>\n",
       "      <td>1</td>\n",
       "      <td>1</td>\n",
       "      <td>5</td>\n",
       "      <td>1303862400</td>\n",
       "      <td>Good Quality Dog Food</td>\n",
       "      <td>I have bought several of the Vitality canned d...</td>\n",
       "    </tr>\n",
       "    <tr>\n",
       "      <th>1</th>\n",
       "      <td>2</td>\n",
       "      <td>B00813GRG4</td>\n",
       "      <td>A1D87F6ZCVE5NK</td>\n",
       "      <td>dll pa</td>\n",
       "      <td>0</td>\n",
       "      <td>0</td>\n",
       "      <td>1</td>\n",
       "      <td>1346976000</td>\n",
       "      <td>Not as Advertised</td>\n",
       "      <td>Product arrived labeled as Jumbo Salted Peanut...</td>\n",
       "    </tr>\n",
       "    <tr>\n",
       "      <th>2</th>\n",
       "      <td>3</td>\n",
       "      <td>B000LQOCH0</td>\n",
       "      <td>ABXLMWJIXXAIN</td>\n",
       "      <td>Natalia Corres \"Natalia Corres\"</td>\n",
       "      <td>1</td>\n",
       "      <td>1</td>\n",
       "      <td>4</td>\n",
       "      <td>1219017600</td>\n",
       "      <td>\"Delight\" says it all</td>\n",
       "      <td>This is a confection that has been around a fe...</td>\n",
       "    </tr>\n",
       "    <tr>\n",
       "      <th>3</th>\n",
       "      <td>4</td>\n",
       "      <td>B000UA0QIQ</td>\n",
       "      <td>A395BORC6FGVXV</td>\n",
       "      <td>Karl</td>\n",
       "      <td>3</td>\n",
       "      <td>3</td>\n",
       "      <td>2</td>\n",
       "      <td>1307923200</td>\n",
       "      <td>Cough Medicine</td>\n",
       "      <td>If you are looking for the secret ingredient i...</td>\n",
       "    </tr>\n",
       "    <tr>\n",
       "      <th>4</th>\n",
       "      <td>5</td>\n",
       "      <td>B006K2ZZ7K</td>\n",
       "      <td>A1UQRSCLF8GW1T</td>\n",
       "      <td>Michael D. Bigham \"M. Wassir\"</td>\n",
       "      <td>0</td>\n",
       "      <td>0</td>\n",
       "      <td>5</td>\n",
       "      <td>1350777600</td>\n",
       "      <td>Great taffy</td>\n",
       "      <td>Great taffy at a great price.  There was a wid...</td>\n",
       "    </tr>\n",
       "  </tbody>\n",
       "</table>\n",
       "</div>"
      ],
      "text/plain": [
       "   Id   ProductId          UserId                      ProfileName  \\\n",
       "0   1  B001E4KFG0  A3SGXH7AUHU8GW                       delmartian   \n",
       "1   2  B00813GRG4  A1D87F6ZCVE5NK                           dll pa   \n",
       "2   3  B000LQOCH0   ABXLMWJIXXAIN  Natalia Corres \"Natalia Corres\"   \n",
       "3   4  B000UA0QIQ  A395BORC6FGVXV                             Karl   \n",
       "4   5  B006K2ZZ7K  A1UQRSCLF8GW1T    Michael D. Bigham \"M. Wassir\"   \n",
       "\n",
       "   HelpfulnessNumerator  HelpfulnessDenominator  Score        Time  \\\n",
       "0                     1                       1      5  1303862400   \n",
       "1                     0                       0      1  1346976000   \n",
       "2                     1                       1      4  1219017600   \n",
       "3                     3                       3      2  1307923200   \n",
       "4                     0                       0      5  1350777600   \n",
       "\n",
       "                 Summary                                               Text  \n",
       "0  Good Quality Dog Food  I have bought several of the Vitality canned d...  \n",
       "1      Not as Advertised  Product arrived labeled as Jumbo Salted Peanut...  \n",
       "2  \"Delight\" says it all  This is a confection that has been around a fe...  \n",
       "3         Cough Medicine  If you are looking for the secret ingredient i...  \n",
       "4            Great taffy  Great taffy at a great price.  There was a wid...  "
      ]
     },
     "execution_count": 3,
     "metadata": {},
     "output_type": "execute_result"
    }
   ],
   "source": [
    "review.head()"
   ]
  },
  {
   "cell_type": "code",
   "execution_count": 4,
   "id": "155225af-58aa-4cfe-b3ab-22391bde065e",
   "metadata": {},
   "outputs": [
    {
     "data": {
      "text/plain": [
       "(568454, 10)"
      ]
     },
     "execution_count": 4,
     "metadata": {},
     "output_type": "execute_result"
    }
   ],
   "source": [
    "review.shape"
   ]
  },
  {
   "cell_type": "code",
   "execution_count": 5,
   "id": "d3d4812d-453a-4ca2-8fa7-f94a76097a3d",
   "metadata": {},
   "outputs": [
    {
     "name": "stdout",
     "output_type": "stream",
     "text": [
      "<class 'pandas.core.frame.DataFrame'>\n",
      "RangeIndex: 568454 entries, 0 to 568453\n",
      "Data columns (total 10 columns):\n",
      " #   Column                  Non-Null Count   Dtype \n",
      "---  ------                  --------------   ----- \n",
      " 0   Id                      568454 non-null  int64 \n",
      " 1   ProductId               568454 non-null  object\n",
      " 2   UserId                  568454 non-null  object\n",
      " 3   ProfileName             568428 non-null  object\n",
      " 4   HelpfulnessNumerator    568454 non-null  int64 \n",
      " 5   HelpfulnessDenominator  568454 non-null  int64 \n",
      " 6   Score                   568454 non-null  int64 \n",
      " 7   Time                    568454 non-null  int64 \n",
      " 8   Summary                 568427 non-null  object\n",
      " 9   Text                    568454 non-null  object\n",
      "dtypes: int64(5), object(5)\n",
      "memory usage: 43.4+ MB\n"
     ]
    }
   ],
   "source": [
    "review.info()"
   ]
  },
  {
   "cell_type": "code",
   "execution_count": 6,
   "id": "296676c6-558b-495d-aa6c-cdbb3449225a",
   "metadata": {},
   "outputs": [],
   "source": [
    "#review['Score'] = review['Score'].astype(str) # no need "
   ]
  },
  {
   "cell_type": "markdown",
   "id": "5906e469-a467-4bc7-bf31-d3087e753874",
   "metadata": {},
   "source": [
    "### Selecting Random 50000 samples "
   ]
  },
  {
   "cell_type": "code",
   "execution_count": 7,
   "id": "5e748e2f-c6ee-412b-8ca3-7e48dfd2fe8e",
   "metadata": {},
   "outputs": [],
   "source": [
    "reviews = review.sample( n = 200000, random_state = 42) "
   ]
  },
  {
   "cell_type": "code",
   "execution_count": 8,
   "id": "e0ec9d00-f999-4de3-ac6e-5e4f6aacad77",
   "metadata": {},
   "outputs": [
    {
     "data": {
      "text/plain": [
       "(200000, 10)"
      ]
     },
     "execution_count": 8,
     "metadata": {},
     "output_type": "execute_result"
    }
   ],
   "source": [
    "reviews.shape"
   ]
  },
  {
   "cell_type": "code",
   "execution_count": 9,
   "id": "6174148e-feb6-4d1e-99aa-5a311ab77c28",
   "metadata": {},
   "outputs": [
    {
     "data": {
      "text/plain": [
       "Index(['Id', 'ProductId', 'UserId', 'ProfileName', 'HelpfulnessNumerator',\n",
       "       'HelpfulnessDenominator', 'Score', 'Time', 'Summary', 'Text'],\n",
       "      dtype='object')"
      ]
     },
     "execution_count": 9,
     "metadata": {},
     "output_type": "execute_result"
    }
   ],
   "source": [
    "reviews.columns"
   ]
  },
  {
   "cell_type": "markdown",
   "id": "fad1c949-85c8-48ad-8e32-09054a62e4e5",
   "metadata": {},
   "source": [
    "### Selecting required Columns "
   ]
  },
  {
   "cell_type": "code",
   "execution_count": 10,
   "id": "14f02a8c-750b-46be-84f8-187716b7617b",
   "metadata": {},
   "outputs": [],
   "source": [
    "required_cols = ['Score','Text']\n",
    "\n",
    "reviews = reviews[required_cols].reset_index(drop=True)\n"
   ]
  },
  {
   "cell_type": "code",
   "execution_count": 11,
   "id": "8759f6df-c517-405f-a0f7-98b84d1f807e",
   "metadata": {},
   "outputs": [
    {
     "data": {
      "text/html": [
       "<div>\n",
       "<style scoped>\n",
       "    .dataframe tbody tr th:only-of-type {\n",
       "        vertical-align: middle;\n",
       "    }\n",
       "\n",
       "    .dataframe tbody tr th {\n",
       "        vertical-align: top;\n",
       "    }\n",
       "\n",
       "    .dataframe thead th {\n",
       "        text-align: right;\n",
       "    }\n",
       "</style>\n",
       "<table border=\"1\" class=\"dataframe\">\n",
       "  <thead>\n",
       "    <tr style=\"text-align: right;\">\n",
       "      <th></th>\n",
       "      <th>Score</th>\n",
       "      <th>Text</th>\n",
       "    </tr>\n",
       "  </thead>\n",
       "  <tbody>\n",
       "    <tr>\n",
       "      <th>0</th>\n",
       "      <td>5</td>\n",
       "      <td>Having tried a couple of other brands of glute...</td>\n",
       "    </tr>\n",
       "    <tr>\n",
       "      <th>1</th>\n",
       "      <td>5</td>\n",
       "      <td>My cat loves these treats. If ever I can't fin...</td>\n",
       "    </tr>\n",
       "    <tr>\n",
       "      <th>2</th>\n",
       "      <td>3</td>\n",
       "      <td>A little less than I expected.  It tends to ha...</td>\n",
       "    </tr>\n",
       "    <tr>\n",
       "      <th>3</th>\n",
       "      <td>2</td>\n",
       "      <td>First there was Frosted Mini-Wheats, in origin...</td>\n",
       "    </tr>\n",
       "    <tr>\n",
       "      <th>4</th>\n",
       "      <td>5</td>\n",
       "      <td>and I want to congratulate the graphic artist ...</td>\n",
       "    </tr>\n",
       "  </tbody>\n",
       "</table>\n",
       "</div>"
      ],
      "text/plain": [
       "   Score                                               Text\n",
       "0      5  Having tried a couple of other brands of glute...\n",
       "1      5  My cat loves these treats. If ever I can't fin...\n",
       "2      3  A little less than I expected.  It tends to ha...\n",
       "3      2  First there was Frosted Mini-Wheats, in origin...\n",
       "4      5  and I want to congratulate the graphic artist ..."
      ]
     },
     "execution_count": 11,
     "metadata": {},
     "output_type": "execute_result"
    }
   ],
   "source": [
    "reviews.head()"
   ]
  },
  {
   "cell_type": "markdown",
   "id": "f13885fe-b898-4d9d-bd68-43a989599eb9",
   "metadata": {},
   "source": [
    "# Checking for Null Values \n"
   ]
  },
  {
   "cell_type": "code",
   "execution_count": 12,
   "id": "6d52a127-e414-4184-a3f1-e10a413e4180",
   "metadata": {},
   "outputs": [
    {
     "data": {
      "text/plain": [
       "Score    0\n",
       "Text     0\n",
       "dtype: int64"
      ]
     },
     "execution_count": 12,
     "metadata": {},
     "output_type": "execute_result"
    }
   ],
   "source": [
    "reviews.isnull().sum()"
   ]
  },
  {
   "cell_type": "raw",
   "id": "66c369a1-8dca-46cb-91e1-11543e089552",
   "metadata": {},
   "source": [
    "no Null values "
   ]
  },
  {
   "cell_type": "markdown",
   "id": "38a0183d-ad95-43c6-b746-fcd0cc456516",
   "metadata": {},
   "source": [
    "# Text PreProcessing "
   ]
  },
  {
   "cell_type": "markdown",
   "id": "333bf0d0-aaba-4f15-b920-3aa82763e6ab",
   "metadata": {},
   "source": [
    "### Cleaning Text "
   ]
  },
  {
   "cell_type": "code",
   "execution_count": 13,
   "id": "027034b6-0274-495a-ace5-c62b98e9cf3d",
   "metadata": {},
   "outputs": [],
   "source": [
    "def cleaning(text):\n",
    "    text = text.lower() # Converting all text in lower case \n",
    "    text = BeautifulSoup( text , 'lxml').get_text() # removes all HTML Tags \n",
    "    text = re.sub(r'[^a-z\\s]',' ',text).split() # removes punctuations\n",
    "    text = ' '.join(text).strip()\n",
    "    return text\n",
    "   "
   ]
  },
  {
   "cell_type": "code",
   "execution_count": 14,
   "id": "06d9a87a-51b0-400c-ba14-df3d022c3486",
   "metadata": {},
   "outputs": [
    {
     "name": "stdout",
     "output_type": "stream",
     "text": [
      "My cat gets one Whiskas Temptation treat whenever I do her nails. She's always been very compliant, but the treats have made her jello in my arms. Not so sure about the soft filling, because she swallows them whole. Ditto for tartar control. It doesn't do much for that . . . maybe would be different if my cat would chew them.\n",
      "\n",
      " my cat gets one whiskas temptation treat whenever i do her nails she s always been very compliant but the treats have made her jello in my arms not so sure about the soft filling because she swallows them whole ditto for tartar control it doesn t do much for that maybe would be different if my cat would chew them\n"
     ]
    }
   ],
   "source": [
    "text = reviews['Text'][168]\n",
    "processed_text= cleaning(text)\n",
    "\n",
    "print(text+'\\n\\n',processed_text)"
   ]
  },
  {
   "cell_type": "markdown",
   "id": "194adbf3-29b3-4172-a88d-b096aa862fc6",
   "metadata": {},
   "source": [
    "### Tokenization"
   ]
  },
  {
   "cell_type": "code",
   "execution_count": 15,
   "id": "26cca326-a284-4746-a3d7-f697e3c1afe7",
   "metadata": {},
   "outputs": [],
   "source": [
    "def tokenisation(text):\n",
    "    tokens = word_tokenize(text)\n",
    "    return tokens "
   ]
  },
  {
   "cell_type": "code",
   "execution_count": 16,
   "id": "27c9d541-ddd4-4ad9-820a-5239ac81eae9",
   "metadata": {},
   "outputs": [
    {
     "name": "stdout",
     "output_type": "stream",
     "text": [
      "['my', 'cat', 'gets', 'one', 'whiskas', 'temptation', 'treat', 'whenever', 'i', 'do', 'her', 'nails', 'she', 's', 'always', 'been', 'very', 'compliant', 'but', 'the', 'treats', 'have', 'made', 'her', 'jello', 'in', 'my', 'arms', 'not', 'so', 'sure', 'about', 'the', 'soft', 'filling', 'because', 'she', 'swallows', 'them', 'whole', 'ditto', 'for', 'tartar', 'control', 'it', 'doesn', 't', 'do', 'much', 'for', 'that', 'maybe', 'would', 'be', 'different', 'if', 'my', 'cat', 'would', 'chew', 'them']\n"
     ]
    }
   ],
   "source": [
    "print(tokenisation(processed_text))"
   ]
  },
  {
   "cell_type": "markdown",
   "id": "001457c3-70b0-42ea-91fe-f54e938d9feb",
   "metadata": {},
   "source": [
    "### Stop words removal"
   ]
  },
  {
   "cell_type": "code",
   "execution_count": 17,
   "id": "43b01b1a-72a6-447f-8f51-f1078daadee0",
   "metadata": {},
   "outputs": [],
   "source": [
    "def remove_stopwords(tokens):\n",
    "    stop_words = set(stopwords.words('english'))\n",
    "    not_remove = {'no', 'not', 'nor', 'never', \"don't\", \"doesn't\", \"didn't\", \n",
    "    \"won't\", \"can't\", \"couldn't\", \"shouldn't\", \"wouldn't\", \"isn't\", \"wasn't\", \"aren't\", \"haven't\", \"hasn't\", \"hadn't\"}\n",
    "    stop_words=stop_words - not_remove\n",
    "    tokens =[ word for word in tokens if word not in stop_words ]\n",
    "    return tokens    "
   ]
  },
  {
   "cell_type": "code",
   "execution_count": 18,
   "id": "0dcd83ba-2ef6-4682-85c5-3c82cf0ca407",
   "metadata": {},
   "outputs": [
    {
     "name": "stdout",
     "output_type": "stream",
     "text": [
      "['cat', 'gets', 'one', 'whiskas', 'temptation', 'treat', 'whenever', 'nails', 'always', 'compliant', 'treats', 'made', 'jello', 'arms', 'not', 'sure', 'soft', 'filling', 'swallows', 'whole', 'ditto', 'tartar', 'control', 'much', 'maybe', 'would', 'different', 'cat', 'would', 'chew']\n"
     ]
    }
   ],
   "source": [
    "print(remove_stopwords(tokenisation(processed_text)))"
   ]
  },
  {
   "cell_type": "markdown",
   "id": "1fd240d8-5b0c-4e60-80d0-a702e8e03aac",
   "metadata": {},
   "source": [
    "### Lemmatisation"
   ]
  },
  {
   "cell_type": "code",
   "execution_count": 19,
   "id": "881fe208-5daa-45c3-b96f-ad9064b27030",
   "metadata": {},
   "outputs": [],
   "source": [
    "def lemmatisation(tokens):\n",
    "    lemma=WordNetLemmatizer()\n",
    "    tokens = [lemma.lemmatize(word, pos ='v') for word in tokens]\n",
    "    #tokens = [lemma.lemmatize(word, pos ='a') for word in tokens]\n",
    "    #tokens = [lemma.lemmatize(word, pos ='n') for word in tokens]\n",
    "    #tokens = [lemma.lemmatize(word, pos ='r') for word in tokens]\n",
    "    return ' '.join(tokens)"
   ]
  },
  {
   "cell_type": "code",
   "execution_count": 20,
   "id": "a8a552a0-4c6a-435d-b776-b219ecb0ae9a",
   "metadata": {},
   "outputs": [
    {
     "name": "stdout",
     "output_type": "stream",
     "text": [
      "cat get one whiskas temptation treat whenever nail always compliant treat make jello arm not sure soft fill swallow whole ditto tartar control much maybe would different cat would chew\n"
     ]
    }
   ],
   "source": [
    "tok =remove_stopwords(tokenisation(processed_text))\n",
    "print(lemmatisation(tok))"
   ]
  },
  {
   "cell_type": "code",
   "execution_count": 21,
   "id": "7bed9672-e162-4aa2-ab32-6a3bcf719fce",
   "metadata": {},
   "outputs": [
    {
     "name": "stderr",
     "output_type": "stream",
     "text": [
      "C:\\Users\\admin\\AppData\\Local\\Temp\\ipykernel_10000\\1026654267.py:3: MarkupResemblesLocatorWarning: The input looks more like a filename than markup. You may want to open this file and pass the filehandle into Beautiful Soup.\n",
      "  text = BeautifulSoup( text , 'lxml').get_text() # removes all HTML Tags\n"
     ]
    }
   ],
   "source": [
    "reviews['clean_text'] = reviews['Text'].apply(lambda x : cleaning(x))\n",
    "reviews['clean_text'] = reviews['clean_text'].apply(lambda x : tokenisation(x))\n",
    "reviews['clean_text'] = reviews['clean_text'].apply(lambda x : remove_stopwords(x))\n",
    "reviews['clean_text'] = reviews['clean_text'].apply(lambda x : lemmatisation(x))"
   ]
  },
  {
   "cell_type": "code",
   "execution_count": 22,
   "id": "19c0f890-8a6d-4b2a-9928-7b21986ad754",
   "metadata": {},
   "outputs": [
    {
     "data": {
      "text/plain": [
       "'try couple brand gluten free sandwich cookies best bunch crunchy true texture real cookies gluten free might think fill make bite sweet mean satisfy sweet tooth sooner chocolate version glutino good true chocolatey taste something gluten free brand'"
      ]
     },
     "execution_count": 22,
     "metadata": {},
     "output_type": "execute_result"
    }
   ],
   "source": [
    "reviews['clean_text'][0]"
   ]
  },
  {
   "cell_type": "code",
   "execution_count": 23,
   "id": "fcb867f6-cfc2-40dd-910f-a10aca1832e0",
   "metadata": {},
   "outputs": [],
   "source": [
    "def sentiment(x):\n",
    "    if x in [1,2]:\n",
    "        return 'Bad'\n",
    "    elif x in [4,5]:\n",
    "        return 'Good'\n",
    "    else:\n",
    "        return 'neutral'\n",
    "\n",
    "le = LabelEncoder()\n",
    "\n",
    "reviews['Score_label'] = reviews['Score'].apply(sentiment)\n",
    "reviews['Sentiment'] = le.fit_transform(reviews['Score_label'])"
   ]
  },
  {
   "cell_type": "markdown",
   "id": "6c2af23c-bed2-4a1a-8a13-5a2a1207b889",
   "metadata": {},
   "source": [
    "# EDA"
   ]
  },
  {
   "cell_type": "code",
   "execution_count": 24,
   "id": "8b6e1af4-592d-438d-b966-10c7be3713c9",
   "metadata": {},
   "outputs": [
    {
     "name": "stdout",
     "output_type": "stream",
     "text": [
      "<class 'pandas.core.frame.DataFrame'>\n",
      "RangeIndex: 200000 entries, 0 to 199999\n",
      "Data columns (total 5 columns):\n",
      " #   Column       Non-Null Count   Dtype \n",
      "---  ------       --------------   ----- \n",
      " 0   Score        200000 non-null  int64 \n",
      " 1   Text         200000 non-null  object\n",
      " 2   clean_text   200000 non-null  object\n",
      " 3   Score_label  200000 non-null  object\n",
      " 4   Sentiment    200000 non-null  int32 \n",
      "dtypes: int32(1), int64(1), object(3)\n",
      "memory usage: 6.9+ MB\n"
     ]
    }
   ],
   "source": [
    "reviews.info()"
   ]
  },
  {
   "cell_type": "code",
   "execution_count": 25,
   "id": "6f6bc7bf-58c9-4f34-a777-f33ccefa4a90",
   "metadata": {},
   "outputs": [
    {
     "data": {
      "text/plain": [
       "<Axes: xlabel='Sentiment'>"
      ]
     },
     "execution_count": 25,
     "metadata": {},
     "output_type": "execute_result"
    },
    {
     "data": {
      "image/png": "[encoded data removed]",
      "text/plain": [
       "<Figure size 800x500 with 1 Axes>"
      ]
     },
     "metadata": {},
     "output_type": "display_data"
    }
   ],
   "source": [
    "reviews['Sentiment'].value_counts().sort_index().plot(kind = 'bar', label ='Review count by score', figsize =(8,5))"
   ]
  },
  {
   "cell_type": "code",
   "execution_count": 26,
   "id": "2e044f04-639e-4da0-853a-544696c3d97c",
   "metadata": {},
   "outputs": [
    {
     "data": {
      "text/plain": [
       "Sentiment\n",
       "0     28558\n",
       "1    156413\n",
       "2     15029\n",
       "Name: count, dtype: int64"
      ]
     },
     "execution_count": 26,
     "metadata": {},
     "output_type": "execute_result"
    }
   ],
   "source": [
    "reviews['Sentiment'].value_counts().sort_index()"
   ]
  },
  {
   "cell_type": "code",
   "execution_count": 27,
   "id": "7a6a758a-278b-40ee-93b5-ac230f6cf3b5",
   "metadata": {},
   "outputs": [
    {
     "data": {
      "text/html": [
       "<div>\n",
       "<style scoped>\n",
       "    .dataframe tbody tr th:only-of-type {\n",
       "        vertical-align: middle;\n",
       "    }\n",
       "\n",
       "    .dataframe tbody tr th {\n",
       "        vertical-align: top;\n",
       "    }\n",
       "\n",
       "    .dataframe thead th {\n",
       "        text-align: right;\n",
       "    }\n",
       "</style>\n",
       "<table border=\"1\" class=\"dataframe\">\n",
       "  <thead>\n",
       "    <tr style=\"text-align: right;\">\n",
       "      <th></th>\n",
       "      <th>Score</th>\n",
       "      <th>Sentiment</th>\n",
       "    </tr>\n",
       "  </thead>\n",
       "  <tbody>\n",
       "    <tr>\n",
       "      <th>count</th>\n",
       "      <td>200000.000000</td>\n",
       "      <td>200000.000000</td>\n",
       "    </tr>\n",
       "    <tr>\n",
       "      <th>mean</th>\n",
       "      <td>4.187800</td>\n",
       "      <td>0.932355</td>\n",
       "    </tr>\n",
       "    <tr>\n",
       "      <th>std</th>\n",
       "      <td>1.305998</td>\n",
       "      <td>0.461909</td>\n",
       "    </tr>\n",
       "    <tr>\n",
       "      <th>min</th>\n",
       "      <td>1.000000</td>\n",
       "      <td>0.000000</td>\n",
       "    </tr>\n",
       "    <tr>\n",
       "      <th>25%</th>\n",
       "      <td>4.000000</td>\n",
       "      <td>1.000000</td>\n",
       "    </tr>\n",
       "    <tr>\n",
       "      <th>50%</th>\n",
       "      <td>5.000000</td>\n",
       "      <td>1.000000</td>\n",
       "    </tr>\n",
       "    <tr>\n",
       "      <th>75%</th>\n",
       "      <td>5.000000</td>\n",
       "      <td>1.000000</td>\n",
       "    </tr>\n",
       "    <tr>\n",
       "      <th>max</th>\n",
       "      <td>5.000000</td>\n",
       "      <td>2.000000</td>\n",
       "    </tr>\n",
       "  </tbody>\n",
       "</table>\n",
       "</div>"
      ],
      "text/plain": [
       "               Score      Sentiment\n",
       "count  200000.000000  200000.000000\n",
       "mean        4.187800       0.932355\n",
       "std         1.305998       0.461909\n",
       "min         1.000000       0.000000\n",
       "25%         4.000000       1.000000\n",
       "50%         5.000000       1.000000\n",
       "75%         5.000000       1.000000\n",
       "max         5.000000       2.000000"
      ]
     },
     "execution_count": 27,
     "metadata": {},
     "output_type": "execute_result"
    }
   ],
   "source": [
    "reviews.describe()"
   ]
  },
  {
   "cell_type": "markdown",
   "id": "3929805a-98dc-4f8f-98ef-ed112c35dddc",
   "metadata": {},
   "source": [
    "### Handling Class imbalance using Under Sampling technique "
   ]
  },
  {
   "cell_type": "code",
   "execution_count": 28,
   "id": "54fc865f-9e7e-4465-88dc-e7e601202d11",
   "metadata": {},
   "outputs": [
    {
     "data": {
      "text/plain": [
       "Sentiment\n",
       "0     28558\n",
       "1    156413\n",
       "2     15029\n",
       "Name: count, dtype: int64"
      ]
     },
     "execution_count": 28,
     "metadata": {},
     "output_type": "execute_result"
    }
   ],
   "source": [
    "reviews['Sentiment'].value_counts().sort_index()"
   ]
  },
  {
   "cell_type": "code",
   "execution_count": 29,
   "id": "d45fa6b2-71e3-4d25-aba7-db58c2ee5ecc",
   "metadata": {},
   "outputs": [],
   "source": [
    "#Imbalance Class distribution- Solving using under sampling \n",
    "\n",
    "major = reviews[reviews['Sentiment'] == 1]\n",
    "minor = reviews[reviews['Sentiment'] != 1]\n",
    "\n",
    "downsampling = resample(major , replace =False, n_samples = len(minor), random_state = 33) \n",
    "\n",
    "Balanced_reviews = pd.concat([minor,downsampling])"
   ]
  },
  {
   "cell_type": "code",
   "execution_count": 30,
   "id": "9cdc84e9-4032-43c8-8352-339a6b9ab1d8",
   "metadata": {},
   "outputs": [
    {
     "data": {
      "text/html": [
       "<div>\n",
       "<style scoped>\n",
       "    .dataframe tbody tr th:only-of-type {\n",
       "        vertical-align: middle;\n",
       "    }\n",
       "\n",
       "    .dataframe tbody tr th {\n",
       "        vertical-align: top;\n",
       "    }\n",
       "\n",
       "    .dataframe thead th {\n",
       "        text-align: right;\n",
       "    }\n",
       "</style>\n",
       "<table border=\"1\" class=\"dataframe\">\n",
       "  <thead>\n",
       "    <tr style=\"text-align: right;\">\n",
       "      <th></th>\n",
       "      <th>Score</th>\n",
       "      <th>Text</th>\n",
       "      <th>clean_text</th>\n",
       "      <th>Score_label</th>\n",
       "      <th>Sentiment</th>\n",
       "    </tr>\n",
       "  </thead>\n",
       "  <tbody>\n",
       "    <tr>\n",
       "      <th>2</th>\n",
       "      <td>3</td>\n",
       "      <td>A little less than I expected.  It tends to ha...</td>\n",
       "      <td>little less expect tend muddy taste not expect...</td>\n",
       "      <td>neutral</td>\n",
       "      <td>2</td>\n",
       "    </tr>\n",
       "    <tr>\n",
       "      <th>3</th>\n",
       "      <td>2</td>\n",
       "      <td>First there was Frosted Mini-Wheats, in origin...</td>\n",
       "      <td>first frost mini wheats original size frost mi...</td>\n",
       "      <td>Bad</td>\n",
       "      <td>0</td>\n",
       "    </tr>\n",
       "    <tr>\n",
       "      <th>14</th>\n",
       "      <td>1</td>\n",
       "      <td>Simply awful.  This product should be taken of...</td>\n",
       "      <td>simply awful product take market immediately a...</td>\n",
       "      <td>Bad</td>\n",
       "      <td>0</td>\n",
       "    </tr>\n",
       "    <tr>\n",
       "      <th>22</th>\n",
       "      <td>1</td>\n",
       "      <td>It sure would be nice if they stated ANYWHERE ...</td>\n",
       "      <td>sure would nice state anywhere description cof...</td>\n",
       "      <td>Bad</td>\n",
       "      <td>0</td>\n",
       "    </tr>\n",
       "    <tr>\n",
       "      <th>27</th>\n",
       "      <td>1</td>\n",
       "      <td>Disappointingly, this is IMITATION Almond Extr...</td>\n",
       "      <td>disappointingly imitation almond extract terri...</td>\n",
       "      <td>Bad</td>\n",
       "      <td>0</td>\n",
       "    </tr>\n",
       "  </tbody>\n",
       "</table>\n",
       "</div>"
      ],
      "text/plain": [
       "    Score                                               Text  \\\n",
       "2       3  A little less than I expected.  It tends to ha...   \n",
       "3       2  First there was Frosted Mini-Wheats, in origin...   \n",
       "14      1  Simply awful.  This product should be taken of...   \n",
       "22      1  It sure would be nice if they stated ANYWHERE ...   \n",
       "27      1  Disappointingly, this is IMITATION Almond Extr...   \n",
       "\n",
       "                                           clean_text Score_label  Sentiment  \n",
       "2   little less expect tend muddy taste not expect...     neutral          2  \n",
       "3   first frost mini wheats original size frost mi...         Bad          0  \n",
       "14  simply awful product take market immediately a...         Bad          0  \n",
       "22  sure would nice state anywhere description cof...         Bad          0  \n",
       "27  disappointingly imitation almond extract terri...         Bad          0  "
      ]
     },
     "execution_count": 30,
     "metadata": {},
     "output_type": "execute_result"
    }
   ],
   "source": [
    "Balanced_reviews.head()"
   ]
  },
  {
   "cell_type": "markdown",
   "id": "2c3c153c-ad25-44f0-a243-51c9e3b7d53d",
   "metadata": {},
   "source": [
    "### Feature Extraction / Vectorisation "
   ]
  },
  {
   "cell_type": "code",
   "execution_count": 31,
   "id": "49a94ab5-e9f5-4726-9139-8e742973d971",
   "metadata": {},
   "outputs": [],
   "source": [
    "vector = TfidfVectorizer(max_features = 5000)\n",
    "X = vector.fit_transform(Balanced_reviews['clean_text']) # Independent Variable"
   ]
  },
  {
   "cell_type": "code",
   "execution_count": 32,
   "id": "ab5c12f9-0924-484e-94f0-a2a6f572c480",
   "metadata": {},
   "outputs": [
    {
     "data": {
      "text/plain": [
       "(87174,)"
      ]
     },
     "execution_count": 32,
     "metadata": {},
     "output_type": "execute_result"
    }
   ],
   "source": [
    "Balanced_reviews['clean_text'].shape"
   ]
  },
  {
   "cell_type": "code",
   "execution_count": 33,
   "id": "e0fde647-fe7d-43e1-83ad-f7898fae3e18",
   "metadata": {},
   "outputs": [
    {
     "data": {
      "text/plain": [
       "<Axes: xlabel='Sentiment'>"
      ]
     },
     "execution_count": 33,
     "metadata": {},
     "output_type": "execute_result"
    },
    {
     "data": {
      "image/png": "[encoded data removed]",
      "text/plain": [
       "<Figure size 800x500 with 1 Axes>"
      ]
     },
     "metadata": {},
     "output_type": "display_data"
    }
   ],
   "source": [
    "Balanced_reviews['Sentiment'].value_counts().sort_index().plot(kind = 'bar', label ='Review count by score', figsize =(8,5))"
   ]
  },
  {
   "cell_type": "code",
   "execution_count": 34,
   "id": "9e7e9664-b699-4a56-92d1-719f9839a7d2",
   "metadata": {},
   "outputs": [],
   "source": [
    "y = Balanced_reviews['Sentiment'] # dependent variable "
   ]
  },
  {
   "cell_type": "code",
   "execution_count": 35,
   "id": "cecbbbf2-2c41-452e-a971-1e8ddb2dba06",
   "metadata": {},
   "outputs": [
    {
     "data": {
      "text/plain": [
       "Score_label\n",
       "Good       43587\n",
       "Bad        28558\n",
       "neutral    15029\n",
       "Name: count, dtype: int64"
      ]
     },
     "execution_count": 35,
     "metadata": {},
     "output_type": "execute_result"
    }
   ],
   "source": [
    "Balanced_reviews['Score_label'].value_counts()"
   ]
  },
  {
   "cell_type": "markdown",
   "id": "9c09bdc5-823d-449c-8442-902cece9b0d6",
   "metadata": {},
   "source": [
    "## Train/Test Split"
   ]
  },
  {
   "cell_type": "code",
   "execution_count": 36,
   "id": "8679b6f8-bb48-4f91-ad76-41215005ec10",
   "metadata": {},
   "outputs": [],
   "source": [
    "X_train,X_test,y_train,y_test = train_test_split(X,y,test_size=0.25,random_state=42, stratify = y )"
   ]
  },
  {
   "cell_type": "markdown",
   "id": "0daafc63-9349-406c-a2a1-0c034e9116cc",
   "metadata": {},
   "source": [
    "## Model Training "
   ]
  },
  {
   "cell_type": "code",
   "execution_count": 37,
   "id": "67d02513-b685-4fbe-b424-c6ebaba84813",
   "metadata": {},
   "outputs": [],
   "source": [
    "logistic_model = LogisticRegression()\n",
    "NB_model = MultinomialNB()\n",
    "svm_model = LinearSVC()\n",
    "Rtree_model = RandomForestClassifier()\n",
    "\n",
    "logistic_model.fit(X_train,y_train)\n",
    "NB_model.fit(X_train,y_train)\n",
    "svm_model.fit(X_train,y_train)\n",
    "Rtree_model.fit(X_train,y_train)\n",
    "\n",
    "Logistic_y_pred = logistic_model.predict(X_test)\n",
    "NB_y_pred=NB_model.predict(X_test)\n",
    "svm_y_pred=svm_model.predict(X_test)\n",
    "Rtree_y_pred=Rtree_model.predict(X_test)"
   ]
  },
  {
   "cell_type": "code",
   "execution_count": 38,
   "id": "7dfcda2e-b5d6-4085-9f44-0b46f05ea3f4",
   "metadata": {},
   "outputs": [
    {
     "name": "stdout",
     "output_type": "stream",
     "text": [
      "              precision    recall  f1-score   support\n",
      "\n",
      "           0       0.74      0.78      0.76      7140\n",
      "           1       0.81      0.89      0.85     10897\n",
      "           2       0.54      0.33      0.41      3757\n",
      "\n",
      "    accuracy                           0.76     21794\n",
      "   macro avg       0.70      0.67      0.67     21794\n",
      "weighted avg       0.74      0.76      0.75     21794\n",
      "\n"
     ]
    }
   ],
   "source": [
    "print(classification_report(y_test,Logistic_y_pred))"
   ]
  },
  {
   "cell_type": "code",
   "execution_count": 39,
   "id": "d92d5340-ecb3-40d0-a869-0715e892277a",
   "metadata": {},
   "outputs": [
    {
     "name": "stdout",
     "output_type": "stream",
     "text": [
      "              precision    recall  f1-score   support\n",
      "\n",
      "           0       0.74      0.69      0.72      7140\n",
      "           1       0.70      0.94      0.80     10897\n",
      "           2       0.62      0.09      0.16      3757\n",
      "\n",
      "    accuracy                           0.71     21794\n",
      "   macro avg       0.69      0.57      0.56     21794\n",
      "weighted avg       0.70      0.71      0.66     21794\n",
      "\n"
     ]
    }
   ],
   "source": [
    "print(classification_report(y_test,NB_y_pred))"
   ]
  },
  {
   "cell_type": "code",
   "execution_count": 40,
   "id": "4b21ad56-1bee-46af-98c4-1a0cdcb0a871",
   "metadata": {},
   "outputs": [
    {
     "name": "stdout",
     "output_type": "stream",
     "text": [
      "              precision    recall  f1-score   support\n",
      "\n",
      "           0       0.74      0.78      0.76      7140\n",
      "           1       0.81      0.89      0.85     10897\n",
      "           2       0.54      0.32      0.40      3757\n",
      "\n",
      "    accuracy                           0.76     21794\n",
      "   macro avg       0.70      0.66      0.67     21794\n",
      "weighted avg       0.74      0.76      0.74     21794\n",
      "\n"
     ]
    }
   ],
   "source": [
    "print(classification_report(y_test,svm_y_pred))"
   ]
  },
  {
   "cell_type": "code",
   "execution_count": 41,
   "id": "f7e9d3ce-92f2-4c76-b8fc-42c027e4eda5",
   "metadata": {},
   "outputs": [
    {
     "name": "stdout",
     "output_type": "stream",
     "text": [
      "              precision    recall  f1-score   support\n",
      "\n",
      "           0       0.76      0.79      0.78      7140\n",
      "           1       0.77      0.93      0.85     10897\n",
      "           2       0.91      0.30      0.46      3757\n",
      "\n",
      "    accuracy                           0.78     21794\n",
      "   macro avg       0.82      0.68      0.69     21794\n",
      "weighted avg       0.79      0.78      0.76     21794\n",
      "\n"
     ]
    }
   ],
   "source": [
    "print(classification_report(y_test,Rtree_y_pred))"
   ]
  },
  {
   "cell_type": "code",
   "execution_count": 42,
   "id": "8f72616b-4297-42f8-8bbe-8725d561e6c6",
   "metadata": {},
   "outputs": [
    {
     "name": "stdout",
     "output_type": "stream",
     "text": [
      "[[ 5624  1450    66]\n",
      " [  677 10178    42]\n",
      " [ 1053  1560  1144]]\n"
     ]
    }
   ],
   "source": [
    "cm = confusion_matrix(y_test, Rtree_y_pred)\n",
    "print(cm)"
   ]
  },
  {
   "cell_type": "code",
   "execution_count": 43,
   "id": "518ea5e1-2b46-408c-9e7a-bf9eeff63478",
   "metadata": {},
   "outputs": [
    {
     "data": {
      "text/plain": [
       "Sentiment\n",
       "1    43587\n",
       "0    28558\n",
       "2    15029\n",
       "Name: count, dtype: int64"
      ]
     },
     "execution_count": 43,
     "metadata": {},
     "output_type": "execute_result"
    }
   ],
   "source": [
    "Balanced_reviews['Sentiment'].value_counts()"
   ]
  },
  {
   "cell_type": "raw",
   "id": "3d29fed4-179c-427e-b6dc-1a21296b65a9",
   "metadata": {},
   "source": [
    "for SMOTE install  :- pip install imbalanced-learn"
   ]
  },
  {
   "cell_type": "raw",
   "id": "ecfa0238-8f01-4cb2-a2e9-efa32cfe58e2",
   "metadata": {},
   "source": [
    "from imblearn.over_sampling import SMOTE\n",
    "\n",
    "X_dense = X.toarray()\n",
    "smote = SMOTE(sampling_strategy={2: 30000,0:30000}, random_state=42)\n",
    "X_resampled, y_resampled = smote.fit_resample(X_dense, y)"
   ]
  },
  {
   "cell_type": "code",
   "execution_count": 44,
   "id": "c983daca-2f55-4f7f-b581-6c368fcff2a2",
   "metadata": {},
   "outputs": [],
   "source": [
    "def test_new_text(num):\n",
    "    step1 = cleaning(review['Text'][num])\n",
    "    step2 = tokenisation(step1)\n",
    "    step3 = remove_stopwords(step2)\n",
    "    step4 = lemmatisation(step3)\n",
    "    step5 = vector.transform([step4])\n",
    "    prediction = Rtree_model.predict(step5)\n",
    "\n",
    "    label= {\n",
    "        0: \"Negative\",\n",
    "        2: \"Neutral\",\n",
    "        1: \"Positive\" }\n",
    "\n",
    "    print(review['Text'][num],'\\n''\\n','Sentiment: '+label[prediction[0]])\n",
    "\n"
   ]
  },
  {
   "cell_type": "raw",
   "id": "6fed7cfe-1877-4e99-929a-90380e87051a",
   "metadata": {},
   "source": [
    "Enter Number Only between 0 and 500000"
   ]
  },
  {
   "cell_type": "code",
   "execution_count": 45,
   "id": "3d9e72e4-1eb5-41c2-88b4-40f9d8ae82b6",
   "metadata": {},
   "outputs": [
    {
     "name": "stdout",
     "output_type": "stream",
     "text": [
      "Not very fresh....Experation date less than 2 months?<br />The experation is on each individual SlimJim so you can't check that until you open the box.<br />Each individual seemed different from the other. Some were tough and hard to chew and some were ok.<br />I'll probably buy at the store from now on. \n",
      "\n",
      " Sentiment: Neutral\n"
     ]
    }
   ],
   "source": [
    "test_new_text(137778)"
   ]
  },
  {
   "cell_type": "code",
   "execution_count": 46,
   "id": "f8b49b43-dea8-4eae-977b-bfd7b4447ad8",
   "metadata": {},
   "outputs": [
    {
     "name": "stdout",
     "output_type": "stream",
     "text": [
      "My male Maltese dog had been enjoying the Old Roy's Puppy Biscuits from Walmart.  Then I couldn't find them.  I was desperate to find a treat that would measure up.  I ordered six bags of the peanut butter and crossed my fingers.<br /><br />They arrived, and my little guy loves them.  He gets one heart-shaped biscuit at bedtime.  He sleeps in a crate.  When he hears me touch the bag of treats, he beats a path to his crate in high excitement.  They are a BIG hit with my him.  They are well worth the price.  They are high quality and I can even smell peanuts in them. \n",
      "\n",
      " Sentiment: Positive\n"
     ]
    }
   ],
   "source": [
    "test_new_text(646)"
   ]
  },
  {
   "cell_type": "code",
   "execution_count": 47,
   "id": "fcef6bd6-7d22-4d0f-9c87-671d8c908f7e",
   "metadata": {},
   "outputs": [
    {
     "name": "stdout",
     "output_type": "stream",
     "text": [
      "I fed this to my Golden Retriever and he hated it.  He wouldn't eat it, and when he did, it gave him terrible diarrhea.  We will not be buying this again.  It's also super expensive. \n",
      "\n",
      " Sentiment: Negative\n"
     ]
    }
   ],
   "source": [
    "test_new_text(99)"
   ]
  },
  {
   "cell_type": "code",
   "execution_count": 48,
   "id": "e86ddc42-6917-4426-b02d-5aa206e9db30",
   "metadata": {},
   "outputs": [
    {
     "name": "stdout",
     "output_type": "stream",
     "text": [
      "I love these cookies. I am on the paleo diet right now and these cookies are what I look forward too. I do like the taste of the tropical one the best. They all have different taste but if you want something that is grain free and gluten free then this is the right place. I expected the taste to be different and it is. Other reviewers seem to expect them to taste like oreos or chips ahoy. Of course not.<br /><br />When I eat them, I don't even feel bad about it because my body welcomes them. They don't make me crash either and feel like I ate junk food. It is a good indicator that these were made from all natural ingredients. I wish I had these cookies close to me. I'd buy them every single day! \n",
      "\n",
      " Sentiment: Positive\n"
     ]
    }
   ],
   "source": [
    "test_new_text(4999) # Error"
   ]
  },
  {
   "cell_type": "markdown",
   "id": "1bbff086-173d-445c-b6ac-10aa3ad1f3e9",
   "metadata": {},
   "source": [
    "# Bidirectional LSTM"
   ]
  },
  {
   "cell_type": "code",
   "execution_count": 49,
   "id": "fc3ec1eb-058d-4cb0-81a7-5ab668acb17a",
   "metadata": {},
   "outputs": [
    {
     "data": {
      "text/html": [
       "<div>\n",
       "<style scoped>\n",
       "    .dataframe tbody tr th:only-of-type {\n",
       "        vertical-align: middle;\n",
       "    }\n",
       "\n",
       "    .dataframe tbody tr th {\n",
       "        vertical-align: top;\n",
       "    }\n",
       "\n",
       "    .dataframe thead th {\n",
       "        text-align: right;\n",
       "    }\n",
       "</style>\n",
       "<table border=\"1\" class=\"dataframe\">\n",
       "  <thead>\n",
       "    <tr style=\"text-align: right;\">\n",
       "      <th></th>\n",
       "      <th>Score</th>\n",
       "      <th>Text</th>\n",
       "      <th>clean_text</th>\n",
       "      <th>Score_label</th>\n",
       "      <th>Sentiment</th>\n",
       "    </tr>\n",
       "  </thead>\n",
       "  <tbody>\n",
       "    <tr>\n",
       "      <th>2</th>\n",
       "      <td>3</td>\n",
       "      <td>A little less than I expected.  It tends to ha...</td>\n",
       "      <td>little less expect tend muddy taste not expect...</td>\n",
       "      <td>neutral</td>\n",
       "      <td>2</td>\n",
       "    </tr>\n",
       "    <tr>\n",
       "      <th>3</th>\n",
       "      <td>2</td>\n",
       "      <td>First there was Frosted Mini-Wheats, in origin...</td>\n",
       "      <td>first frost mini wheats original size frost mi...</td>\n",
       "      <td>Bad</td>\n",
       "      <td>0</td>\n",
       "    </tr>\n",
       "    <tr>\n",
       "      <th>14</th>\n",
       "      <td>1</td>\n",
       "      <td>Simply awful.  This product should be taken of...</td>\n",
       "      <td>simply awful product take market immediately a...</td>\n",
       "      <td>Bad</td>\n",
       "      <td>0</td>\n",
       "    </tr>\n",
       "    <tr>\n",
       "      <th>22</th>\n",
       "      <td>1</td>\n",
       "      <td>It sure would be nice if they stated ANYWHERE ...</td>\n",
       "      <td>sure would nice state anywhere description cof...</td>\n",
       "      <td>Bad</td>\n",
       "      <td>0</td>\n",
       "    </tr>\n",
       "    <tr>\n",
       "      <th>27</th>\n",
       "      <td>1</td>\n",
       "      <td>Disappointingly, this is IMITATION Almond Extr...</td>\n",
       "      <td>disappointingly imitation almond extract terri...</td>\n",
       "      <td>Bad</td>\n",
       "      <td>0</td>\n",
       "    </tr>\n",
       "  </tbody>\n",
       "</table>\n",
       "</div>"
      ],
      "text/plain": [
       "    Score                                               Text  \\\n",
       "2       3  A little less than I expected.  It tends to ha...   \n",
       "3       2  First there was Frosted Mini-Wheats, in origin...   \n",
       "14      1  Simply awful.  This product should be taken of...   \n",
       "22      1  It sure would be nice if they stated ANYWHERE ...   \n",
       "27      1  Disappointingly, this is IMITATION Almond Extr...   \n",
       "\n",
       "                                           clean_text Score_label  Sentiment  \n",
       "2   little less expect tend muddy taste not expect...     neutral          2  \n",
       "3   first frost mini wheats original size frost mi...         Bad          0  \n",
       "14  simply awful product take market immediately a...         Bad          0  \n",
       "22  sure would nice state anywhere description cof...         Bad          0  \n",
       "27  disappointingly imitation almond extract terri...         Bad          0  "
      ]
     },
     "execution_count": 49,
     "metadata": {},
     "output_type": "execute_result"
    }
   ],
   "source": [
    "Balanced_reviews.head()"
   ]
  },
  {
   "cell_type": "code",
   "execution_count": 50,
   "id": "cb48eb0e-9bca-4075-b78c-6ec77c2ea465",
   "metadata": {},
   "outputs": [],
   "source": [
    "tokenizer = Tokenizer(num_words=300, oov_token='<OOV>')\n",
    "tokenizer.fit_on_texts(Balanced_reviews['clean_text'])\n",
    "\n",
    "sequences = tokenizer.texts_to_sequences(Balanced_reviews['clean_text'])  # Convert text to sequences of integers\n",
    "padded_sequences = pad_sequences(sequences, maxlen=300, padding='post', truncating='post')"
   ]
  },
  {
   "cell_type": "code",
   "execution_count": 51,
   "id": "2b2c5f59-cdfe-4a1e-a934-3a7b33c53505",
   "metadata": {},
   "outputs": [],
   "source": [
    "\n",
    "X_train, X_test, y_train, y_test = train_test_split(padded_sequences,Balanced_reviews['Sentiment'], \n",
    "                                                    test_size=0.2, random_state=42, stratify=Balanced_reviews['Sentiment'])"
   ]
  },
  {
   "cell_type": "code",
   "execution_count": 52,
   "id": "c5535742-0448-4d99-9963-1a71b529f957",
   "metadata": {},
   "outputs": [
    {
     "name": "stderr",
     "output_type": "stream",
     "text": [
      "C:\\Users\\admin\\AppData\\Local\\Programs\\Python\\Python312\\Lib\\site-packages\\keras\\src\\layers\\core\\embedding.py:90: UserWarning: Argument `input_length` is deprecated. Just remove it.\n",
      "  warnings.warn(\n"
     ]
    },
    {
     "data": {
      "text/html": [
       "<pre style=\"white-space:pre;overflow-x:auto;line-height:normal;font-family:Menlo,'DejaVu Sans Mono',consolas,'Courier New',monospace\"><span style=\"font-weight: bold\">Model: \"sequential\"</span>\n",
       "</pre>\n"
      ],
      "text/plain": [
       "\u001b[1mModel: \"sequential\"\u001b[0m\n"
      ]
     },
     "metadata": {},
     "output_type": "display_data"
    },
    {
     "data": {
      "text/html": [
       "<pre style=\"white-space:pre;overflow-x:auto;line-height:normal;font-family:Menlo,'DejaVu Sans Mono',consolas,'Courier New',monospace\">┏━━━━━━━━━━━━━━━━━━━━━━━━━━━━━━━━━━━━━━┳━━━━━━━━━━━━━━━━━━━━━━━━━━━━━┳━━━━━━━━━━━━━━━━━┓\n",
       "┃<span style=\"font-weight: bold\"> Layer (type)                         </span>┃<span style=\"font-weight: bold\"> Output Shape                </span>┃<span style=\"font-weight: bold\">         Param # </span>┃\n",
       "┡━━━━━━━━━━━━━━━━━━━━━━━━━━━━━━━━━━━━━━╇━━━━━━━━━━━━━━━━━━━━━━━━━━━━━╇━━━━━━━━━━━━━━━━━┩\n",
       "│ embedding (<span style=\"color: #0087ff; text-decoration-color: #0087ff\">Embedding</span>)                │ (<span style=\"color: #00d7ff; text-decoration-color: #00d7ff\">None</span>, <span style=\"color: #00af00; text-decoration-color: #00af00\">300</span>, <span style=\"color: #00af00; text-decoration-color: #00af00\">128</span>)            │          <span style=\"color: #00af00; text-decoration-color: #00af00\">38,400</span> │\n",
       "├──────────────────────────────────────┼─────────────────────────────┼─────────────────┤\n",
       "│ bidirectional (<span style=\"color: #0087ff; text-decoration-color: #0087ff\">Bidirectional</span>)        │ (<span style=\"color: #00d7ff; text-decoration-color: #00d7ff\">None</span>, <span style=\"color: #00af00; text-decoration-color: #00af00\">128</span>)                 │          <span style=\"color: #00af00; text-decoration-color: #00af00\">98,816</span> │\n",
       "├──────────────────────────────────────┼─────────────────────────────┼─────────────────┤\n",
       "│ dropout (<span style=\"color: #0087ff; text-decoration-color: #0087ff\">Dropout</span>)                    │ (<span style=\"color: #00d7ff; text-decoration-color: #00d7ff\">None</span>, <span style=\"color: #00af00; text-decoration-color: #00af00\">128</span>)                 │               <span style=\"color: #00af00; text-decoration-color: #00af00\">0</span> │\n",
       "├──────────────────────────────────────┼─────────────────────────────┼─────────────────┤\n",
       "│ dense (<span style=\"color: #0087ff; text-decoration-color: #0087ff\">Dense</span>)                        │ (<span style=\"color: #00d7ff; text-decoration-color: #00d7ff\">None</span>, <span style=\"color: #00af00; text-decoration-color: #00af00\">64</span>)                  │           <span style=\"color: #00af00; text-decoration-color: #00af00\">8,256</span> │\n",
       "├──────────────────────────────────────┼─────────────────────────────┼─────────────────┤\n",
       "│ dense_1 (<span style=\"color: #0087ff; text-decoration-color: #0087ff\">Dense</span>)                      │ (<span style=\"color: #00d7ff; text-decoration-color: #00d7ff\">None</span>, <span style=\"color: #00af00; text-decoration-color: #00af00\">3</span>)                   │             <span style=\"color: #00af00; text-decoration-color: #00af00\">195</span> │\n",
       "└──────────────────────────────────────┴─────────────────────────────┴─────────────────┘\n",
       "</pre>\n"
      ],
      "text/plain": [
       "┏━━━━━━━━━━━━━━━━━━━━━━━━━━━━━━━━━━━━━━┳━━━━━━━━━━━━━━━━━━━━━━━━━━━━━┳━━━━━━━━━━━━━━━━━┓\n",
       "┃\u001b[1m \u001b[0m\u001b[1mLayer (type)                        \u001b[0m\u001b[1m \u001b[0m┃\u001b[1m \u001b[0m\u001b[1mOutput Shape               \u001b[0m\u001b[1m \u001b[0m┃\u001b[1m \u001b[0m\u001b[1m        Param #\u001b[0m\u001b[1m \u001b[0m┃\n",
       "┡━━━━━━━━━━━━━━━━━━━━━━━━━━━━━━━━━━━━━━╇━━━━━━━━━━━━━━━━━━━━━━━━━━━━━╇━━━━━━━━━━━━━━━━━┩\n",
       "│ embedding (\u001b[38;5;33mEmbedding\u001b[0m)                │ (\u001b[38;5;45mNone\u001b[0m, \u001b[38;5;34m300\u001b[0m, \u001b[38;5;34m128\u001b[0m)            │          \u001b[38;5;34m38,400\u001b[0m │\n",
       "├──────────────────────────────────────┼─────────────────────────────┼─────────────────┤\n",
       "│ bidirectional (\u001b[38;5;33mBidirectional\u001b[0m)        │ (\u001b[38;5;45mNone\u001b[0m, \u001b[38;5;34m128\u001b[0m)                 │          \u001b[38;5;34m98,816\u001b[0m │\n",
       "├──────────────────────────────────────┼─────────────────────────────┼─────────────────┤\n",
       "│ dropout (\u001b[38;5;33mDropout\u001b[0m)                    │ (\u001b[38;5;45mNone\u001b[0m, \u001b[38;5;34m128\u001b[0m)                 │               \u001b[38;5;34m0\u001b[0m │\n",
       "├──────────────────────────────────────┼─────────────────────────────┼─────────────────┤\n",
       "│ dense (\u001b[38;5;33mDense\u001b[0m)                        │ (\u001b[38;5;45mNone\u001b[0m, \u001b[38;5;34m64\u001b[0m)                  │           \u001b[38;5;34m8,256\u001b[0m │\n",
       "├──────────────────────────────────────┼─────────────────────────────┼─────────────────┤\n",
       "│ dense_1 (\u001b[38;5;33mDense\u001b[0m)                      │ (\u001b[38;5;45mNone\u001b[0m, \u001b[38;5;34m3\u001b[0m)                   │             \u001b[38;5;34m195\u001b[0m │\n",
       "└──────────────────────────────────────┴─────────────────────────────┴─────────────────┘\n"
      ]
     },
     "metadata": {},
     "output_type": "display_data"
    },
    {
     "data": {
      "text/html": [
       "<pre style=\"white-space:pre;overflow-x:auto;line-height:normal;font-family:Menlo,'DejaVu Sans Mono',consolas,'Courier New',monospace\"><span style=\"font-weight: bold\"> Total params: </span><span style=\"color: #00af00; text-decoration-color: #00af00\">145,667</span> (569.01 KB)\n",
       "</pre>\n"
      ],
      "text/plain": [
       "\u001b[1m Total params: \u001b[0m\u001b[38;5;34m145,667\u001b[0m (569.01 KB)\n"
      ]
     },
     "metadata": {},
     "output_type": "display_data"
    },
    {
     "data": {
      "text/html": [
       "<pre style=\"white-space:pre;overflow-x:auto;line-height:normal;font-family:Menlo,'DejaVu Sans Mono',consolas,'Courier New',monospace\"><span style=\"font-weight: bold\"> Trainable params: </span><span style=\"color: #00af00; text-decoration-color: #00af00\">145,667</span> (569.01 KB)\n",
       "</pre>\n"
      ],
      "text/plain": [
       "\u001b[1m Trainable params: \u001b[0m\u001b[38;5;34m145,667\u001b[0m (569.01 KB)\n"
      ]
     },
     "metadata": {},
     "output_type": "display_data"
    },
    {
     "data": {
      "text/html": [
       "<pre style=\"white-space:pre;overflow-x:auto;line-height:normal;font-family:Menlo,'DejaVu Sans Mono',consolas,'Courier New',monospace\"><span style=\"font-weight: bold\"> Non-trainable params: </span><span style=\"color: #00af00; text-decoration-color: #00af00\">0</span> (0.00 B)\n",
       "</pre>\n"
      ],
      "text/plain": [
       "\u001b[1m Non-trainable params: \u001b[0m\u001b[38;5;34m0\u001b[0m (0.00 B)\n"
      ]
     },
     "metadata": {},
     "output_type": "display_data"
    }
   ],
   "source": [
    "model = Sequential([\n",
    "    Embedding(input_dim=300, output_dim=128, input_length=300),\n",
    "    Bidirectional(LSTM(64, return_sequences=False)),\n",
    "    Dropout(0.5),\n",
    "    Dense(64, activation='relu'),\n",
    "    Dense(3, activation='softmax')  # For multi-class classification\n",
    "])\n",
    "model.build(input_shape=(None, 300))\n",
    "model.compile(loss='sparse_categorical_crossentropy', optimizer='adam', metrics=['accuracy'])\n",
    "model.summary()"
   ]
  },
  {
   "cell_type": "code",
   "execution_count": null,
   "id": "f56ba971-fafa-45ce-b35c-fc7b384324d9",
   "metadata": {},
   "outputs": [
    {
     "name": "stdout",
     "output_type": "stream",
     "text": [
      "Epoch 1/5\n",
      "\u001b[1m545/545\u001b[0m \u001b[32m━━━━━━━━━━━━━━━━━━━━\u001b[0m\u001b[37m\u001b[0m \u001b[1m807s\u001b[0m 1s/step - accuracy: 0.5935 - loss: 0.8941 - val_accuracy: 0.6790 - val_loss: 0.7558\n",
      "Epoch 2/5\n",
      "\u001b[1m427/545\u001b[0m \u001b[32m━━━━━━━━━━━━━━━\u001b[0m\u001b[37m━━━━━\u001b[0m \u001b[1m2:58\u001b[0m 2s/step - accuracy: 0.6880 - loss: 0.7352"
     ]
    }
   ],
   "source": [
    "history = model.fit(X_train, y_train, validation_data=(X_test, y_test), epochs=5, batch_size=128)\n"
   ]
  },
  {
   "cell_type": "raw",
   "id": "09033640-5ec2-439b-aae8-71f4eee5f6a1",
   "metadata": {},
   "source": [
    "def predict_sentiment(text, tokenizer, model, label_encoder, max_len=300):\n",
    "    # 1. Clean text (if not already cleaned)\n",
    "    # If you've already cleaned/lemmatized your training data, do the same here.\n",
    "\n",
    "    # 2. Tokenize\n",
    "    sequence = tokenizer.texts_to_sequences([text])\n",
    "    \n",
    "    # 3. Pad the sequence\n",
    "    padded = pad_sequences(sequence, maxlen=max_len, padding='post', truncating='post')\n",
    "    \n",
    "    # 4. Predict\n",
    "    prediction = model.predict(padded)\n",
    "    \n",
    "    # 5. Get label\n",
    "    class_index = np.argmax(prediction, axis=1)[0]\n",
    "    sentiment_label = label_encoder.inverse_transform([class_index])[0]\n",
    "     return sentiment_label"
   ]
  }
 ],
 "metadata": {
  "kernelspec": {
   "display_name": "Python 3 (ipykernel)",
   "language": "python",
   "name": "python3"
  },
  "language_info": {
   "codemirror_mode": {
    "name": "ipython",
    "version": 3
   },
   "file_extension": ".py",
   "mimetype": "text/x-python",
   "name": "python",
   "nbconvert_exporter": "python",
   "pygments_lexer": "ipython3",
   "version": "3.12.3"
  }
 },
 "nbformat": 4,
 "nbformat_minor": 5
}
